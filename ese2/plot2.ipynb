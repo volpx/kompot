{
 "cells": [
  {
   "cell_type": "code",
   "execution_count": 1,
   "metadata": {},
   "outputs": [],
   "source": [
    "import numpy as np\n",
    "import pandas as pd\n",
    "import seaborn as sns\n",
    "import matplotlib.pyplot as plt\n",
    "import matplotlib\n",
    "from matplotlib.ticker import FormatStrFormatter, ScalarFormatter\n",
    "import matplotlib.ticker as plticker\n",
    "import os.path\n",
    "import scipy as sc"
   ]
  },
  {
   "cell_type": "code",
   "execution_count": 2,
   "metadata": {},
   "outputs": [],
   "source": [
    "#setup plotter\n",
    "%matplotlib qt\n",
    "# matplotlib.verbose.level = 'debug-annoying'\n",
    "sns.set_theme(style=\"darkgrid\")\n",
    "sns.set(font_scale=1, rc={'figure.figsize' : (6.4, 4.8), 'text.usetex' : True, 'text.latex.preamble':r'\\usepackage{siunitx}','savefig.bbox':'tight'})"
   ]
  },
  {
   "cell_type": "code",
   "execution_count": 3,
   "metadata": {},
   "outputs": [],
   "source": [
    "# base function\n",
    "chi=lambda r,alpha: np.exp(-alpha*r**2)\n",
    "# constructed function\n",
    "def phi(r,C,a):\n",
    "    Y=np.zeros_like(r)\n",
    "    for i in range(C.size):\n",
    "        Y+=C[i]*chi(r,a[i])\n",
    "    return Y\n",
    "# overlap matrix\n",
    "def S(ap,aq):\n",
    "    return (np.pi/(ap+aq))**(3/2)\n",
    "# norm of phi\n",
    "def norm(C,a):\n",
    "    A=0\n",
    "    for p in range(C.size):\n",
    "        for q in range(C.size):\n",
    "            A+=C[p]*C[q]*S(a[p],a[q])\n",
    "    return A\n",
    "\n",
    "# base function\n",
    "def chi1(r,alpha,beta): \n",
    "    res=np.zeros_like(r)\n",
    "    for i in range(alpha.size):\n",
    "        res+=beta[i]*np.exp(-alpha[i]*r**2)\n",
    "    return res\n",
    "# constructed function\n",
    "def phi1(r,C,a,b):\n",
    "    Y=np.zeros_like(r)\n",
    "    for i in range(C.size):\n",
    "        Y+=C[i]*chi1(r,a[i],b[i])\n",
    "    return Y\n",
    "# # overlap matrix\n",
    "# def S1(ap,aq):\n",
    "#     return (np.pi/(ap+aq))**(3/2)\n",
    "# # norm of phi\n",
    "# def norm1(C,a):\n",
    "#     A=0\n",
    "#     for p in range(C.size):\n",
    "#         for q in range(C.size):\n",
    "#             A+=C[p]*C[q]*S(a[p],a[q])\n",
    "#     return A"
   ]
  },
  {
   "source": [
    "# Q2"
   ],
   "cell_type": "markdown",
   "metadata": {}
  },
  {
   "cell_type": "code",
   "execution_count": 4,
   "metadata": {},
   "outputs": [],
   "source": [
    "# basis coefficients\n",
    "a=[13.00773, 1.962079, 0.444529, 0.1219492]\n",
    "\n",
    "# RESULTS\n",
    "# expansion coefficients\n",
    "Cs=np.array([\n",
    "    0.0960054, -0.119334, -0.0103517, 6.14894,\n",
    "    0.162854, -0.0812481, 1.74315, -1.23896,\n",
    "    0.185401, -0.49572, -0.628566, 0.226185,\n",
    "    0.0736271, 0.20571, 0.0976767, -0.0307491]).reshape((4,4)).T\n",
    "# energies\n",
    "Es=np.array([-0.499278, 0.113214, 2.5923, 21.1444])\n",
    "\n",
    "# construct orbitals\n",
    "r=np.linspace(0,5,1000)\n",
    "Y1s=phi(r,Cs[0],a)\n",
    "Y2s=phi(r,Cs[1],a)\n",
    "Y2p=phi(r,Cs[2],a)\n",
    "Y3s=phi(r,Cs[3],a)\n",
    "\n",
    "plt.figure()\n",
    "plt.suptitle('H atom 1s orbital')\n",
    "plt.errorbar(x=r,y=Y1s,label='1s HF')\n",
    "plt.errorbar(x=r,y=1/np.pi**0.5*np.exp(-r),label='1s exact')\n",
    "plt.legend()\n",
    "plt.xlabel('r')\n",
    "plt.ylabel(r'$\\phi(r)$')\n",
    "# plt.ylim([-0.5,1.5])\n",
    "plt.savefig('data/fig1.pdf')"
   ]
  },
  {
   "cell_type": "code",
   "execution_count": 5,
   "metadata": {},
   "outputs": [],
   "source": [
    "plt.figure()\n",
    "plt.suptitle('H atom 1s orbital error')\n",
    "plt.errorbar(x=r,y=Y1s-1/np.pi**0.5*np.exp(-r))\n",
    "# plt.legend()\n",
    "plt.xlabel('r')\n",
    "plt.ylabel(r'$\\phi_{HF}(r)-\\phi_{exact}(r)$')\n",
    "# plt.ylim([-0.5,1.5])\n",
    "plt.savefig('data/fig2.pdf')"
   ]
  },
  {
   "source": [
    "# Q3"
   ],
   "cell_type": "markdown",
   "metadata": {}
  },
  {
   "cell_type": "code",
   "execution_count": 7,
   "metadata": {},
   "outputs": [],
   "source": [
    "# basis coefficients\n",
    "a=[14.899983, 2.726485, 0.757447, 0.251390]\n",
    "\n",
    "# RESULTS\n",
    "# expansion coefficients\n",
    "Cs=np.array([\n",
    "   0.364712, 0.333422, -0.217597, 7.42929,\n",
    "   0.40855, 0.0682811, -2.47843, -2.27522,\n",
    "   0.258639, 0.79373, 1.28079, 0.570607,\n",
    "   0.0950997, -0.411656, -0.241491, -0.0917678]).reshape((4,4)).T\n",
    "# energies\n",
    "Es=np.array([-0.911663, 0.778182, 4.47375, 24.5728])\n",
    "\n",
    "# construct orbitals\n",
    "r=np.linspace(0,5,1000)\n",
    "Y1s=phi(r,Cs[0],a)\n",
    "Y2s=phi(r,Cs[1],a)\n",
    "Y2p=phi(r,Cs[2],a)\n",
    "Y3s=phi(r,Cs[3],a)\n",
    "\n",
    "plt.figure()\n",
    "plt.suptitle('He atom 1s orbital')\n",
    "plt.errorbar(x=r,y=Y1s,label='1s')\n",
    "plt.legend()\n",
    "plt.xlabel('r')\n",
    "plt.ylabel(r'$\\phi(r)$')\n",
    "# plt.ylim([-0.5,1.5])\n",
    "plt.savefig('data/fig3.pdf')"
   ]
  },
  {
   "source": [
    "# Q4a"
   ],
   "cell_type": "markdown",
   "metadata": {}
  },
  {
   "cell_type": "code",
   "execution_count": 9,
   "metadata": {},
   "outputs": [
    {
     "output_type": "execute_result",
     "data": {
      "text/plain": [
       "(-0.5, 1.5)"
      ]
     },
     "metadata": {},
     "execution_count": 9
    }
   ],
   "source": [
    "# basis coefficients\n",
    "a=[0.7064859542e2, 0.1292782254e2, 0.3591490662e1, 0.1191983464e1, 0.3072833610e1, 0.6652025433, 0.2162825386, 0.8306680972e-1]\n",
    "\n",
    "# RESULTS\n",
    "# expansion coefficients\n",
    "Cs=np.array([\n",
    "   1.06265, -0.199775, 0.18084, -0.479294, -0.457541, -1.55705, 0.537727, 25.8228,\n",
    " 1.27923, -0.251675, 0.347648, -0.202076, -1.87132, 0.63877, 13.5819, -12.6223,\n",
    " 0.930715, -0.289726, -1.37884, -6.81213, 18.1598, -55.0715, -70.7809, 34.8587,\n",
    " 0.263355, -0.165882, -0.722406, -4.12646, 9.30609, -9.94117, -7.0326, 3.11381,\n",
    " -0.00587607, 0.0719327, 1.89663, 7.44161, -23.1366, 59.3009, 67.0498, -31.9793,\n",
    " -0.00110521, 0.0389912, 0.768584, 3.55617, -4.59271, 3.6032, 2.28264, -1.01823,\n",
    " 0.00336901, 0.056335, -0.670342, -0.834538, 0.559135, -0.345535, -0.208369, 0.0959437,\n",
    " -0.000451423, 0.0895256, 0.233489, 0.141048, -0.0786213, 0.0469876, 0.0284906, -0.0133563]).reshape((8,8)).T\n",
    "# energies\n",
    "Es=np.array([-4.70217, -0.304276, 0.363824, 1.72022, 5.30823, 13.4958, 33.4777, 128.822])\n",
    "\n",
    "# construct orbitals\n",
    "r=np.linspace(0,5,1000)\n",
    "Y1s=phi(r,Cs[0],a)\n",
    "Y2s=phi(r,Cs[1],a)\n",
    "\n",
    "\n",
    "plt.figure()\n",
    "plt.suptitle('Be atom 1s,2s orbital from uncontracted')\n",
    "plt.errorbar(x=r,y=Y1s,label='1s')\n",
    "plt.errorbar(x=r,y=Y2s,label='2s')\n",
    "plt.legend()\n",
    "plt.xlabel('r')\n",
    "plt.ylabel(r'$\\phi(r)$')\n",
    "plt.ylim([-0.5,1.5])"
   ]
  },
  {
   "source": [
    "# Q4b"
   ],
   "cell_type": "markdown",
   "metadata": {}
  },
  {
   "cell_type": "code",
   "execution_count": 10,
   "metadata": {},
   "outputs": [
    {
     "output_type": "execute_result",
     "data": {
      "text/plain": [
       "(-0.5, 1.5)"
      ]
     },
     "metadata": {},
     "execution_count": 10
    }
   ],
   "source": [
    "# basis coefficients\n",
    "a=np.array([[0.7064859542e2, 0.1292782254e2, 0.3591490662e1, 0.1191983464e1], \n",
    "   [0.3072833610e1, 0.6652025433, 0.2162825386, 0.8306680972e-1]])\n",
    "b=np.array([[0.5675242080e-1, 0.2601413550, 0.5328461143, 0.2916254405], \n",
    "   [-0.6220714565e-1, 0.2976804596e-4, 0.5588549221, 0.4977673218]])\n",
    "\n",
    "# RESULTS\n",
    "# expansion coefficients\n",
    "Cs=np.array([\n",
    "   1.5681, -0.521336,\n",
    " -0.00667745, 0.15883]).reshape((2,2)).T\n",
    "# energies\n",
    "Es=np.array([-4.23151, -0.287552])\n",
    "\n",
    "# construct orbitals\n",
    "r=np.linspace(0,5,1000)\n",
    "Y1s_con=phi1(r,Cs[0],a,b)\n",
    "Y2s_con=phi1(r,Cs[1],a,b)\n",
    "\n",
    "plt.figure()\n",
    "plt.suptitle('Be atom 1s,2s orbital from contracted')\n",
    "plt.errorbar(x=r,y=Y1s,label='1s')\n",
    "plt.errorbar(x=r,y=Y2s,label='2s')\n",
    "plt.legend()\n",
    "plt.xlabel('r')\n",
    "plt.ylabel(r'$\\phi(r)$')\n",
    "plt.ylim([-0.5,1.5])"
   ]
  },
  {
   "cell_type": "code",
   "execution_count": 12,
   "metadata": {},
   "outputs": [],
   "source": [
    "plt.figure()\n",
    "plt.suptitle('Be atom 1s,2s orbital comparison')\n",
    "plt.errorbar(x=r,y=Y1s,label='1s uncontracted')\n",
    "plt.errorbar(x=r,y=Y2s,label='2s uncontracted')\n",
    "plt.errorbar(x=r,y=Y1s_con,label='1s contracted')\n",
    "plt.errorbar(x=r,y=Y2s_con,label='2s contracted')\n",
    "plt.legend()\n",
    "plt.xlabel('r')\n",
    "plt.ylabel(r'$\\phi(r)$')\n",
    "# plt.ylim([-0.5,1.5])\n",
    "plt.savefig('data/fig4.pdf')\n",
    "\n",
    "plt.figure()\n",
    "plt.suptitle('Be atom 1s,2s orbital differences')\n",
    "plt.errorbar(x=r,y=Y1s-Y1s_con,label='1s')\n",
    "plt.errorbar(x=r,y=Y2s-Y2s_con,label='2s')\n",
    "plt.legend()\n",
    "plt.xlabel('r')\n",
    "plt.ylabel(r'$\\phi_{uncontracted}(r)-\\phi_{contracted}(r)$')\n",
    "# plt.ylim([-0.5,1.5])\n",
    "plt.savefig('data/fig5.pdf')"
   ]
  },
  {
   "cell_type": "code",
   "execution_count": null,
   "metadata": {},
   "outputs": [],
   "source": []
  }
 ],
 "metadata": {
  "kernelspec": {
   "display_name": "Python 3",
   "language": "python",
   "name": "python3"
  },
  "language_info": {
   "codemirror_mode": {
    "name": "ipython",
    "version": 3
   },
   "file_extension": ".py",
   "mimetype": "text/x-python",
   "name": "python",
   "nbconvert_exporter": "python",
   "pygments_lexer": "ipython3",
   "version": "3.9.2-final"
  }
 },
 "nbformat": 4,
 "nbformat_minor": 4
}