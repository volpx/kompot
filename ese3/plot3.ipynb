{
 "cells": [
  {
   "cell_type": "code",
   "execution_count": 2,
   "metadata": {},
   "outputs": [],
   "source": [
    "import numpy as np\n",
    "import pandas as pd\n",
    "import seaborn as sns\n",
    "import matplotlib.pyplot as plt\n",
    "import matplotlib\n",
    "from matplotlib.ticker import FormatStrFormatter, ScalarFormatter\n",
    "import matplotlib.ticker as plticker\n",
    "import os.path\n",
    "import scipy as sc"
   ]
  },
  {
   "cell_type": "code",
   "execution_count": 3,
   "metadata": {},
   "outputs": [],
   "source": [
    "#setup plotter\n",
    "%matplotlib qt\n",
    "# matplotlib.verbose.level = 'debug-annoying'\n",
    "sns.set_theme(style=\"darkgrid\")\n",
    "sns.set(font_scale=1, rc={'figure.figsize' : (6.4, 4.8), 'text.usetex' : True, 'text.latex.preamble':r'\\usepackage{siunitx}','savefig.bbox':'tight'})"
   ]
  },
  {
   "cell_type": "code",
   "execution_count": 4,
   "metadata": {},
   "outputs": [],
   "source": [
    "Nlevels=4\n",
    "Ne=19\n",
    "rs=4.86\n",
    "k=1e-2\n",
    "\n",
    "rhoB=1/(4/3*np.pi*rs**3)\n",
    "Rc=(Ne*3/(4*np.pi*rhoB))**(1/3)\n",
    "V_harmonic=lambda r: k*0.5*r**2+0.5*l*(l+1)/r**2\n",
    "V_ext=lambda r: 2*np.pi*rhoB*np.where(r>Rc,-2/3*Rc**3/r+Rc**2,1/3*r**2)\n",
    "V_eff_0=lambda r: V_ext(r)+0.5*l*(l+1)/r**2\n"
   ]
  },
  {
   "source": [
    "# Q1"
   ],
   "cell_type": "markdown",
   "metadata": {}
  },
  {
   "cell_type": "code",
   "execution_count": 31,
   "metadata": {},
   "outputs": [
    {
     "output_type": "execute_result",
     "data": {
      "text/plain": [
       "(0.0, 3.0)"
      ]
     },
     "metadata": {},
     "execution_count": 31
    }
   ],
   "source": [
    "l=0\n",
    "r=np.linspace(0,60,1000)\n",
    "\n",
    "plt.figure()\n",
    "plt.suptitle('Egergies')\n",
    "plt.errorbar(x=r,y=V_eff(r))\n",
    "plt.errorbar(x=r,y=V_harmonic(r))\n",
    "# plt.axhline(0.224,label='$l=0 k=0$')\n",
    "# plt.axhline(0.368,label='$l=1 k=0$')\n",
    "# plt.axhline(0.508,label='$l=2 k=0$')\n",
    "# plt.axhline(0.501,label='$l=0 k=1$')\n",
    "plt.axhline(0.5*k,label='$l=0 k=0$')\n",
    "plt.axhline(1.5*k,label='$l=1 k=0$')\n",
    "plt.axhline(2.5*k,label='$l=2 k=0$')\n",
    "plt.axhline(3.5*k,label='$l=2 k=0$')\n",
    "plt.axvline(Rc,color='red')\n",
    "plt.axvline(rs,color='green')\n",
    "plt.ylim([0,3])"
   ]
  },
  {
   "cell_type": "code",
   "execution_count": 35,
   "metadata": {},
   "outputs": [
    {
     "output_type": "execute_result",
     "data": {
      "text/plain": [
       "<matplotlib.legend.Legend at 0x7f25407180a0>"
      ]
     },
     "metadata": {},
     "execution_count": 35
    }
   ],
   "source": [
    "def q(k):\n",
    "    for l in range(0,k):\n",
    "        yield 'phi{}'.format(l)\n",
    "        yield 'rho{}'.format(l)\n",
    "names=['r']+list(q(Nlevels))\n",
    "df = pd.read_csv(\"data/numerov.dat\",sep='\\s+',skiprows=1,names=names)\n",
    "\n",
    "r=np.linspace(0,30,1000)\n",
    "\n",
    "l=0\n",
    "plt.figure()\n",
    "plt.suptitle('Egergies')\n",
    "# plt.errorbar(x=r,y=V_eff(r))\n",
    "# plt.axhline(0.224,label='$l=0 k=0$')\n",
    "# plt.axhline(0.368,label='$l=1 k=0$')\n",
    "# plt.axhline(0.508,label='$l=2 k=0$')\n",
    "# plt.axhline(0.501,label='$l=0 k=1$')\n",
    "plt.axvline(Rc,color='red')\n",
    "plt.axvline(rs,color='green')\n",
    "for i in range(Nlevels):\n",
    "    plt.plot(df['r'],df['rho{}'.format(i)],label='{}'.format(i))\n",
    "plt.legend()\n",
    "# plt.ylim([0,3])"
   ]
  },
  {
   "cell_type": "code",
   "execution_count": 79,
   "metadata": {},
   "outputs": [
    {
     "output_type": "stream",
     "name": "stderr",
     "text": [
      "No handles with labels found to put in legend.\n"
     ]
    },
    {
     "output_type": "execute_result",
     "data": {
      "text/plain": [
       "(-1000.0, 1000.0)"
      ]
     },
     "metadata": {},
     "execution_count": 79
    }
   ],
   "source": [
    "names=['E','Y_xmax']\n",
    "df = pd.read_csv(\"data/y_max.dat\",sep='\\s+',skiprows=1,names=names)\n",
    "\n",
    "plt.figure()\n",
    "plt.suptitle('$Y_{xmax}$')\n",
    "plt.errorbar(x=df['E'],y=df['Y_xmax']*np.exp(df['E']/0.05),marker='o')\n",
    "plt.legend()\n",
    "plt.ylim([-1e3,1e3])"
   ]
  },
  {
   "cell_type": "code",
   "execution_count": 77,
   "metadata": {},
   "outputs": [
    {
     "output_type": "execute_result",
     "data": {
      "text/plain": [
       "0      3222.660000\n",
       "1      -478.380000\n",
       "2     -3553.420000\n",
       "3     -6068.750000\n",
       "4     -8086.400000\n",
       "          ...     \n",
       "465       0.005347\n",
       "466       0.005055\n",
       "467       0.004744\n",
       "468       0.004416\n",
       "469       0.004071\n",
       "Name: Y_xmax, Length: 470, dtype: float64"
      ]
     },
     "metadata": {},
     "execution_count": 77
    }
   ],
   "source": [
    "df['Y_xmax']"
   ]
  },
  {
   "cell_type": "code",
   "execution_count": null,
   "metadata": {},
   "outputs": [],
   "source": []
  }
 ],
 "metadata": {
  "kernelspec": {
   "display_name": "Python 3",
   "language": "python",
   "name": "python3"
  },
  "language_info": {
   "codemirror_mode": {
    "name": "ipython",
    "version": 3
   },
   "file_extension": ".py",
   "mimetype": "text/x-python",
   "name": "python",
   "nbconvert_exporter": "python",
   "pygments_lexer": "ipython3",
   "version": "3.9.2-final"
  }
 },
 "nbformat": 4,
 "nbformat_minor": 4
}