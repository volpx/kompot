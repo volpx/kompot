{
 "cells": [
  {
   "cell_type": "code",
   "execution_count": 2,
   "metadata": {},
   "outputs": [],
   "source": [
    "import numpy as np\n",
    "import pandas as pd\n",
    "import seaborn as sns\n",
    "import matplotlib.pyplot as plt\n",
    "import matplotlib\n",
    "from matplotlib.ticker import FormatStrFormatter, ScalarFormatter\n",
    "import matplotlib.ticker as plticker\n",
    "import os.path\n",
    "import scipy as sc\n",
    "from math import *"
   ]
  },
  {
   "cell_type": "code",
   "execution_count": 3,
   "metadata": {},
   "outputs": [],
   "source": [
    "#setup plotter\n",
    "%matplotlib qt\n",
    "# matplotlib.verbose.level = 'debug-annoying'\n",
    "sns.set_theme(style=\"darkgrid\")\n",
    "sns.set(font_scale=1, rc={'figure.figsize' : (6.4, 4.8), 'text.usetex' : True, 'text.latex.preamble':r'\\usepackage{siunitx}','savefig.bbox':'tight'})"
   ]
  },
  {
   "cell_type": "code",
   "execution_count": 4,
   "metadata": {},
   "outputs": [],
   "source": [
    "Nlevels=4\n",
    "N=2\n",
    "rs=4.86\n",
    "lmax=4\n",
    "pi=np.pi\n",
    "\n",
    "rhoB=1/(4/3*np.pi*rs**3)\n",
    "Rc=(N*3/(4*np.pi*rhoB))**(1/3)"
   ]
  },
  {
   "cell_type": "code",
   "execution_count": 5,
   "metadata": {},
   "outputs": [],
   "source": [
    "#potentials potentissimi\n",
    "V_ext=lambda r: 2*np.pi*rhoB*np.where(r>Rc,-2/3*Rc**3/r,1/3*r**2-Rc**2)\n",
    "V_eff_0=lambda r,l: V_ext(r)+0.5*l*(l+1)/r**2\n",
    "\n",
    "def U_r(r,h,M,rho):\n",
    "    u=0\n",
    "    for i in range(M):\n",
    "        rp=i*h\n",
    "        if(rp<r):\n",
    "            u+=1/r*(rp*rp*rho[i]*h)\n",
    "        else:\n",
    "            u+=rp*rho[i]*h\n",
    "    return 4*pi*u\n",
    "p=1\n",
    "A=0.031091\n",
    "alpha_1=0.21370\n",
    "beta = [7.5957, 3.5876, 1.6382, 0.49294]\n",
    "def e_c(rho):\n",
    "    rs=(1/(4/3*pi*rho))**(1/3)\n",
    "    DEN = 2 * A * (beta[0] * pow(rs, 0.5) + beta[1] * rs + beta[2] * pow(rs, 3.0 / 2) + beta[3] * pow(rs, p + 1))\n",
    "    return -2 * A * (1 + alpha_1 * rs) * log(1 + 1.0 / DEN)\n",
    "def e_x(rho):\n",
    "    return -3. / 4 * pow(3 * rho / pi, 1. / 3)\n",
    "def de_c(rho):\n",
    "\trs = pow(3 / (4 * pi * rho), 1. / 3)\n",
    "\tdr_s = -1. / 3 * pow(3. / 4 / pi, 1. / 3) * pow(rho, -4. / 3)\n",
    "\targ1 = 2 * A * (beta[0] * pow(rs, 0.5) + beta[1] * rs + beta[2] * pow(rs, 3. / 2) + beta[3] * pow(rs, p + 1))\n",
    "\targ2 = 1 + 1. / arg1\n",
    "\treturn dr_s *(\\\n",
    "\t\t-2*A*alpha_1*rs*log(arg2)\\\n",
    "\t\t-2*A*(1+alpha_1*rs)*1./(arg2)*(-(2*A*\\\n",
    "\t\t\t(beta[0]*0.5/sqrt(rs)+beta[1]+beta[2]*3./2*sqrt(rs)\\\n",
    "\t\t\t +beta[3]*(p+1)*pow(rs,p)))/(arg1*arg1)))\n",
    "def de_x(rho):\n",
    "\treturn -1. / 4 * pow(3. / pi, 1. / 3) * pow(rho, -2. / 3)\n",
    "V_eff=lambda r,i,rho,M,h,l: \\\n",
    "    V_eff_0(r,l)\\\n",
    "\t+ U_r(r,h,M,rho) \\\n",
    "    + e_c(rho[i]) + e_x(rho[i]) \\\n",
    "    + (de_c(rho[i]) + de_x(rho[i]))*rho[i]"
   ]
  },
  {
   "source": [
    "# Q1"
   ],
   "cell_type": "markdown",
   "metadata": {}
  },
  {
   "cell_type": "code",
   "execution_count": 20,
   "metadata": {},
   "outputs": [
    {
     "output_type": "execute_result",
     "data": {
      "text/plain": [
       "(-0.6, 2.0)"
      ]
     },
     "metadata": {},
     "execution_count": 20
    }
   ],
   "source": [
    "r=np.linspace(0,60,1000)\n",
    "\n",
    "plt.figure()\n",
    "plt.suptitle('Egergies')\n",
    "for l in range(lmax+1):\n",
    "    plt.errorbar(x=r,y=V_eff_0(r))\n",
    "    # plt.errorbar(x=r,y=V_harmonic(r))\n",
    "plt.axhline(-0.35,label='$l=0 k=0$')\n",
    "plt.axvline(Rc,color='red')\n",
    "plt.axvline(rs,color='green')\n",
    "plt.ylim([-0.6,2])"
   ]
  },
  {
   "source": [
    "## Self consistent plots"
   ],
   "cell_type": "markdown",
   "metadata": {}
  },
  {
   "cell_type": "code",
   "execution_count": 6,
   "metadata": {},
   "outputs": [
    {
     "output_type": "execute_result",
     "data": {
      "text/plain": [
       "<matplotlib.legend.Legend at 0x7f6ef4838910>"
      ]
     },
     "metadata": {},
     "execution_count": 6
    }
   ],
   "source": [
    "# plot rho\n",
    "names=['r','rho']\n",
    "df_0 = pd.read_csv(\"data/numerov.dat\",sep='\\s+',skiprows=1,names=names)\n",
    "\n",
    "l=0\n",
    "plt.figure()\n",
    "plt.suptitle(r'$\\rho_0(r)$')\n",
    "plt.axvline(Rc,color='red')\n",
    "plt.axvline(rs,color='green')\n",
    "plt.plot(df_0['r'],df_0['rho'],label='rho')\n",
    "plt.legend()\n",
    "# plt.ylim([-0.1,10])"
   ]
  },
  {
   "cell_type": "code",
   "execution_count": 43,
   "metadata": {},
   "outputs": [
    {
     "output_type": "execute_result",
     "data": {
      "text/plain": [
       "<matplotlib.legend.Legend at 0x7f6ee037bf40>"
      ]
     },
     "metadata": {},
     "execution_count": 43
    }
   ],
   "source": [
    "# plot rho\n",
    "names=['r','rho','V_l']\n",
    "df_sc = pd.read_csv(\"data/numerov_sc.dat\",sep='\\s+',skiprows=1,names=names)\n",
    "\n",
    "l=0\n",
    "plt.figure()\n",
    "plt.suptitle(r'$\\rho_{sc}(r)$')\n",
    "plt.axvline(Rc,color='red')\n",
    "plt.axvline(rs,color='green')\n",
    "plt.plot(df_sc['r'],df_sc['rho'],label='rho')\n",
    "# plt.plot(df_sc['r'],df_sc['V_l'],label='V_nol')\n",
    "plt.legend()\n",
    "# plt.ylim([-0.1,10])"
   ]
  },
  {
   "cell_type": "code",
   "execution_count": 44,
   "metadata": {},
   "outputs": [
    {
     "output_type": "execute_result",
     "data": {
      "text/plain": [
       "(-2.0, 6.0)"
      ]
     },
     "metadata": {},
     "execution_count": 44
    }
   ],
   "source": [
    "plt.figure()\n",
    "lmax = 1\n",
    "# V_sc=np.empty_like(df_sc['r'])\n",
    "# h=df_sc['r'][1]-df_sc['r'][0]\n",
    "# for m in range(V_sc.size):\n",
    "#     V_sc[m]=V_eff(df_sc['r'][m],m,df_sc['rho'],V_sc.size,h,l)\n",
    "# V_0=np.empty_like(df_0['r'])\n",
    "# for m in range(V_0.size):\n",
    "#     V_0[m]=V_eff_0(df_0['r'][m],l)\n",
    "for l in range(lmax+1):\n",
    "    V_sc = df_sc['V_l'] + 0.5 * l * (l+1)/df_sc['r']**2\n",
    "    plt.plot(df_sc['r'],V_sc,label='l={}'.format(l))\n",
    "# plt.suptitle(r'$V_{eff}(r)$ comparison')\n",
    "# plt.axvline(Rc,color='red')\n",
    "# plt.axvline(rs,color='green')\n",
    "# plt.plot(df_0['r'],V_0,label=r'$V_{0}$')\n",
    "plt.legend()\n",
    "plt.ylim([-2,6])"
   ]
  },
  {
   "source": [
    "## Boh"
   ],
   "cell_type": "markdown",
   "metadata": {}
  },
  {
   "cell_type": "code",
   "execution_count": 35,
   "metadata": {},
   "outputs": [
    {
     "output_type": "execute_result",
     "data": {
      "text/plain": [
       "<matplotlib.legend.Legend at 0x7f25407180a0>"
      ]
     },
     "metadata": {},
     "execution_count": 35
    }
   ],
   "source": [
    "def q(k):\n",
    "    for l in range(0,k):\n",
    "        yield 'phi{}'.format(l)\n",
    "        yield 'rho{}'.format(l)\n",
    "names=['r']+list(q(Nlevels))\n",
    "df = pd.read_csv(\"data/numerov.dat\",sep='\\s+',skiprows=1,names=names)\n",
    "\n",
    "r=np.linspace(0,30,1000)\n",
    "\n",
    "l=0\n",
    "plt.figure()\n",
    "plt.suptitle('Egergies')\n",
    "# plt.errorbar(x=r,y=V_eff(r))\n",
    "# plt.axhline(0.224,label='$l=0 k=0$')\n",
    "# plt.axhline(0.368,label='$l=1 k=0$')\n",
    "# plt.axhline(0.508,label='$l=2 k=0$')\n",
    "# plt.axhline(0.501,label='$l=0 k=1$')\n",
    "plt.axvline(Rc,color='red')\n",
    "plt.axvline(rs,color='green')\n",
    "for i in range(Nlevels):\n",
    "    plt.plot(df['r'],df['rho{}'.format(i)],label='{}'.format(i))\n",
    "plt.legend()\n",
    "# plt.ylim([0,3])"
   ]
  },
  {
   "cell_type": "code",
   "execution_count": 81,
   "metadata": {},
   "outputs": [
    {
     "output_type": "stream",
     "name": "stderr",
     "text": [
      "No handles with labels found to put in legend.\n"
     ]
    },
    {
     "output_type": "execute_result",
     "data": {
      "text/plain": [
       "(-1000.0, 1000.0)"
      ]
     },
     "metadata": {},
     "execution_count": 81
    }
   ],
   "source": [
    "names=['E','Y_xmax']\n",
    "df = pd.read_csv(\"data/y_max.dat\",sep='\\s+',skiprows=1,names=names)\n",
    "\n",
    "plt.figure()\n",
    "plt.suptitle('$Y_{xmax}$')\n",
    "plt.errorbar(x=df['E'],y=df['Y_xmax'],marker='o')\n",
    "plt.legend()\n",
    "plt.ylim([-1e3,1e3])"
   ]
  },
  {
   "cell_type": "code",
   "execution_count": 77,
   "metadata": {},
   "outputs": [
    {
     "output_type": "execute_result",
     "data": {
      "text/plain": [
       "0      3222.660000\n",
       "1      -478.380000\n",
       "2     -3553.420000\n",
       "3     -6068.750000\n",
       "4     -8086.400000\n",
       "          ...     \n",
       "465       0.005347\n",
       "466       0.005055\n",
       "467       0.004744\n",
       "468       0.004416\n",
       "469       0.004071\n",
       "Name: Y_xmax, Length: 470, dtype: float64"
      ]
     },
     "metadata": {},
     "execution_count": 77
    }
   ],
   "source": [
    "df['Y_xmax']"
   ]
  },
  {
   "cell_type": "code",
   "execution_count": null,
   "metadata": {},
   "outputs": [],
   "source": []
  }
 ],
 "metadata": {
  "kernelspec": {
   "display_name": "Python 3",
   "language": "python",
   "name": "python3"
  },
  "language_info": {
   "codemirror_mode": {
    "name": "ipython",
    "version": 3
   },
   "file_extension": ".py",
   "mimetype": "text/x-python",
   "name": "python",
   "nbconvert_exporter": "python",
   "pygments_lexer": "ipython3",
   "version": "3.9.2-final"
  }
 },
 "nbformat": 4,
 "nbformat_minor": 4
}