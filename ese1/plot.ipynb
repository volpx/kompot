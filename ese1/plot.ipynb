{
 "cells": [
  {
   "cell_type": "code",
   "execution_count": null,
   "metadata": {},
   "outputs": [],
   "source": [
    "import numpy as np\n",
    "import pandas as pd\n",
    "import seaborn as sns\n",
    "import matplotlib.pyplot as plt"
   ]
  },
  {
   "cell_type": "code",
   "execution_count": null,
   "metadata": {},
   "outputs": [],
   "source": [
    "#setup plotter\n",
    "%matplotlib qt\n",
    "# matplotlib.verbose.level = 'debug-annoying'\n",
    "sns.set_theme(style=\"darkgrid\")\n",
    "sns.set(font_scale=1.5, rc={'text.usetex' : True, 'text.latex.preamble':r'\\usepackage{siunitx}'})"
   ]
  },
  {
   "cell_type": "code",
   "execution_count": null,
   "metadata": {},
   "outputs": [],
   "source": [
    "eps = 5.9e-3; # eV\n",
    "sigma = 3.18; # Ams\n",
    "mu = 1/(1/(83.798)+1/(1.008))\n",
    "\n",
    "eV2J=1.6e-19 # J/eV\n",
    "Da2kg = 1.6605390666e-27 # Kg/Da\n",
    "\n",
    "mu_kg=Da2kg*mu\n",
    "eps_J=eps*eV2J\n",
    "sigma_m=sigma*1e10"
   ]
  },
  {
   "cell_type": "markdown",
   "metadata": {},
   "source": [
    "# Ese 1"
   ]
  },
  {
   "cell_type": "code",
   "execution_count": null,
   "metadata": {},
   "outputs": [],
   "source": [
    "lmax=3"
   ]
  },
  {
   "cell_type": "code",
   "execution_count": null,
   "metadata": {},
   "outputs": [],
   "source": [
    "df = pd.read_csv(\"data/energy2.dat\",sep='\\s+',skiprows=1,names=['E','y_max_0','y_max_1','y_max_2','y_max_3'])\n",
    "for l in range(lmax+1):\n",
    "    sns.lineplot(x=df['E'],y=df['y_max_{}'.format(l)],marker='.',label='l: {}'.format(l))\n",
    "# plt.ylim([-1e2,1e2])\n",
    "plt.axhline(0,color='#000000')\n",
    "plt.legend()"
   ]
  },
  {
   "cell_type": "code",
   "execution_count": null,
   "metadata": {},
   "outputs": [],
   "source": []
  },
  {
   "cell_type": "markdown",
   "metadata": {},
   "source": [
    "# Ese 6"
   ]
  },
  {
   "cell_type": "code",
   "execution_count": null,
   "metadata": {},
   "outputs": [],
   "source": [
    "df = pd.read_csv(\"data/Scatter.dat\",sep='\\s+',skiprows=1,names=['x','y0'])\n",
    "sns.lineplot(x=df['x'],y=df['y0'],marker=',',label='l:0')\n",
    "# plt.ylim([-1e2,1e2])\n",
    "plt.axhline(0,color='#000000')\n",
    "plt.axvline(5)\n",
    "plt.axvline(12)\n",
    "plt.axvline(15)\n",
    "plt.legend()"
   ]
  },
  {
   "cell_type": "markdown",
   "metadata": {},
   "source": [
    "# Ese 7"
   ]
  },
  {
   "cell_type": "code",
   "execution_count": null,
   "metadata": {},
   "outputs": [],
   "source": [
    "# Import paper data\n",
    "df = pd.read_csv(\"data/save/paper_data.dat\",sep='\\s+',skiprows=2,names=['xd','yd','xe-','ye-','xe+','ye+'])\n",
    "\n",
    "df1=df.iloc[:,[0,1]]\n",
    "df2=df.iloc[:,[2,3]]\n",
    "df3=df.iloc[:,[4,5]]\n",
    "\n",
    "df1=df1.sort_values(by=['xd'])\n",
    "df2=df2.sort_values(by=['xe-'])\n",
    "df3=df3.sort_values(by=['xe+'])\n",
    "\n",
    "err_p=df3['ye+'].values-df1['yd'].values\n",
    "err_m=-(df2['ye-'].values-df1['yd'].values)\n",
    "\n",
    "df1['yerr_m']=err_m\n",
    "df1['yerr_p']=err_p\n",
    "\n",
    "# plt.plot(df1['xd'],df1['yd'])\n",
    "# plt.plot(df1['xd'],df2['ye-'])\n",
    "# plt.plot(df1['xd'],df3['ye+'])\n",
    "# plt.plot(df1['xd'],err_p)\n",
    "# plt.plot(df1['xd'],err_m)\n",
    "\n",
    "df1['xd']=0.5*mu_kg*(df1['xd']**2)/eV2J\n",
    "df1.rename(columns={\"xd\":\"E\"},inplace=True)\n",
    "# display(df1[['yerr_m','yerr_p']].values.T)\n"
   ]
  },
  {
   "cell_type": "code",
   "execution_count": null,
   "metadata": {},
   "outputs": [],
   "source": [
    "plt.figure()\n",
    "\n",
    "# plot paper data\n",
    "plt.errorbar(x=df1['E'],y=df1['yd'],fmt='.',yerr=df1[['yerr_m','yerr_p']].values.T, label='Experimental')\n",
    "\n",
    "# plot saved data\n",
    "df = pd.read_csv(\"data/save/sigma_tot_a0.8.dat\",sep='\\s+',skiprows=1,names=['E','sigma_tot'])\n",
    "sigma_tot=(df['sigma_tot']*sigma**2)\n",
    "E=df['E']*eps\n",
    "E.name='E'\n",
    "sns.lineplot(x=E,y=sigma_tot,marker=',',label=r'Computational $a=0.8$')\n",
    "\n",
    "df = pd.read_csv(\"data/save/sigma_tot_a0.997.dat\",sep='\\s+',skiprows=1,names=['E','sigma_tot'])\n",
    "sigma_tot=(df['sigma_tot']*sigma**2)\n",
    "E=df['E']*eps\n",
    "E.name='E'\n",
    "sns.lineplot(x=E,y=sigma_tot,marker=',',label=r'Computational $a=0.997$')\n",
    "\n",
    "# plot fresh data\n",
    "df = pd.read_csv(\"data/sigma_tot.dat\",sep='\\s+',skiprows=1,names=['E','sigma_tot'])\n",
    "sigma_tot=(df['sigma_tot']*sigma**2)\n",
    "E=df['E']*eps\n",
    "E.name='E'\n",
    "sns.lineplot(x=E,y=sigma_tot,marker=',',label=r'Computational last')\n",
    "\n",
    "plt.xlim([0.34e-3,3.9e-3])\n",
    "# plt.axhline(0,color='#000000')\n",
    "plt.grid(b=True,axis='both',which='both')\n",
    "plt.xscale('log')\n",
    "plt.xlabel(r'$E [\\si{\\electronvolt}]$')\n",
    "plt.ylabel(r'$\\sigma_{tot} [\\si{\\meter}]$')\n",
    "# plt.legend()"
   ]
  },
  {
   "cell_type": "code",
   "execution_count": null,
   "metadata": {},
   "outputs": [],
   "source": []
  }
 ],
 "metadata": {
  "kernelspec": {
   "display_name": "Python 3",
   "language": "python",
   "name": "python3"
  },
  "language_info": {
   "codemirror_mode": {
    "name": "ipython",
    "version": 3
   },
   "file_extension": ".py",
   "mimetype": "text/x-python",
   "name": "python",
   "nbconvert_exporter": "python",
   "pygments_lexer": "ipython3",
   "version": "3.8.6-final"
  }
 },
 "nbformat": 4,
 "nbformat_minor": 4
}